{
  "nbformat": 4,
  "nbformat_minor": 0,
  "metadata": {
    "colab": {
      "name": "FCFS Non-Preemptive.ipynb",
      "provenance": [],
      "collapsed_sections": [],
      "authorship_tag": "ABX9TyOaH7HVxvmTe9je6jS16aTk",
      "include_colab_link": true
    },
    "kernelspec": {
      "name": "python3",
      "display_name": "Python 3"
    },
    "language_info": {
      "name": "python"
    }
  },
  "cells": [
    {
      "cell_type": "markdown",
      "metadata": {
        "id": "view-in-github",
        "colab_type": "text"
      },
      "source": [
        "<a href=\"https://colab.research.google.com/github/AG0nzales/FCFS/blob/main/FCFS_Non_Preemptive.ipynb\" target=\"_parent\"><img src=\"https://colab.research.google.com/assets/colab-badge.svg\" alt=\"Open In Colab\"/></a>"
      ]
    },
    {
      "cell_type": "markdown",
      "metadata": {
        "id": "frV77LZxPvvN"
      },
      "source": [
        "# FIRST COME FIRST SERVE ALGORITHM WITH GANTT CHART"
      ]
    },
    {
      "cell_type": "code",
      "metadata": {
        "id": "Iy1VNTEq1TgY",
        "colab": {
          "base_uri": "https://localhost:8080/"
        },
        "outputId": "caa6b97d-6cb3-4dae-db0d-635b64b125f1"
      },
      "source": [
        "# Function to find the waiting\n",
        "# time for all processes\n",
        "def findWaitingTime(processes, n,\tbt, wt):\n",
        "\n",
        "\t# waiting time for\n",
        "\t# first process is 0\n",
        "\twt[0] = 0\n",
        "\n",
        "\t# calculating waiting time\n",
        "\tfor i in range(1, n ):\n",
        "\t\twt[i] = bt[i - 1] + wt[i - 1]\n",
        "\n",
        "# Function to calculate turn\n",
        "# around time\n",
        "def findTurnAroundTime(processes, n, bt, wt, tat):\n",
        "\n",
        "\t# calculating turnaround\n",
        "\t# time by adding bt[i] + wt[i]\n",
        "\tfor i in range(n):\n",
        "\t\ttat[i] = bt[i] + wt[i]\n",
        "\n",
        "# Function to calculate\n",
        "# average time\n",
        "def findavgTime( processes, n, bt):\n",
        "\n",
        "\twt = [0] * n\n",
        "\ttat = [0] * n\n",
        "\ttotal_wt = 0\n",
        "\ttotal_tat = 0\n",
        "\n",
        "\t# Function to find waiting\n",
        "\t# time of all processes\n",
        "\tfindWaitingTime(processes, n, bt, wt)\n",
        "\n",
        "\t# Function to find turn around\n",
        "\t# time for all processes\n",
        "\tfindTurnAroundTime(processes, n,bt, wt, tat)\n",
        "\n",
        "\t# Display processes along\n",
        "\t# with all details\n",
        "\tprint( \"Processes Burst time \" + \" Waiting time \" +\t\" Turn around time\")\n",
        "\n",
        "\t# Calculate total waiting time\n",
        "\t# and total turn around time\n",
        "\tfor i in range(n):\n",
        "\t\n",
        "\t\ttotal_wt = total_wt + wt[i]\n",
        "\t\ttotal_tat = total_tat + tat[i]\n",
        "\t\tprint(\" \" + str(i + 1) + \"\\t\\t\" +\tstr(bt[i]) + \"\\t \" +str(wt[i]) + \"\\t\\t \" + str(tat[i]))\n",
        "\n",
        "\n",
        "\n",
        "\tprint( \"Average waiting time = \"+ str(total_wt / n))\n",
        "\tprint(\"Average turn around time = \"+ str(total_tat / n))\n",
        " \n",
        "\n",
        "\n",
        "def gantt(bt):\n",
        "\tprint(\"\\n\")\n",
        "\tprint(\"Gantt Chart\")\n",
        "\t\n",
        "\tfor i in range(n):\n",
        "\t\tprint(processes[i], \"+----------+\", end=\" \")\n",
        "\t\n",
        "\tprint(\"\\n\")\n",
        "\tsum = 0\n",
        "\tprint(0,\" +----------+\", end=\" \") \n",
        "\tfor i in range(len(bt)): \n",
        "\t\t\tsum += bt[i]\n",
        "\t\t\tprint(sum, \"+----------+\", end=\" \") \n",
        "\n",
        "\n",
        "\n",
        "# Driver code\n",
        "if __name__ ==\"__main__\":\n",
        "  processes = [ \"P1\", \"P2\", \"P3\", \"P4\"]\n",
        "  n = len(processes)\n",
        "\n",
        "  burst_time = [1, 5, 1, 6, 3]\n",
        "\n",
        "\n",
        "  findavgTime(processes, n, burst_time)\n",
        "  gantt(burst_time)\n",
        "\t"
      ],
      "execution_count": null,
      "outputs": [
        {
          "output_type": "stream",
          "name": "stdout",
          "text": [
            "Processes Burst time  Waiting time  Turn around time\n",
            " 1\t\t1\t 0\t\t 1\n",
            " 2\t\t5\t 1\t\t 6\n",
            " 3\t\t1\t 6\t\t 7\n",
            " 4\t\t6\t 7\t\t 13\n",
            "Average waiting time = 3.5\n",
            "Average turn around time = 6.75\n",
            "\n",
            "\n",
            "Gantt Chart\n",
            "P1 +----------+ P2 +----------+ P3 +----------+ P4 +----------+ \n",
            "\n",
            "0  +----------+ 1 +----------+ 6 +----------+ 7 +----------+ 13 +----------+ 16 +----------+ "
          ]
        }
      ]
    }
  ]
}